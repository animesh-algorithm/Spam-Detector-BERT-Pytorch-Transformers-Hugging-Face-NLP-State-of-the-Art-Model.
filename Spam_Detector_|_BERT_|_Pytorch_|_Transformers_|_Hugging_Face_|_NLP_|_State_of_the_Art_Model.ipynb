{
  "nbformat": 4,
  "nbformat_minor": 0,
  "metadata": {
    "colab": {
      "name": "Spam Detector | BERT | Pytorch | Transformers | Hugging Face | NLP | State of the Art Model.ipynb",
      "provenance": [],
      "mount_file_id": "1iojVJPS6whCUiHnbvoNN9ih8yNQPSAXn",
      "authorship_tag": "ABX9TyORlffdboBCI7IWcq8IKmyI",
      "include_colab_link": true
    },
    "kernelspec": {
      "name": "python3",
      "display_name": "Python 3"
    },
    "accelerator": "GPU"
  },
  "cells": [
    {
      "cell_type": "markdown",
      "metadata": {
        "id": "view-in-github",
        "colab_type": "text"
      },
      "source": [
        "<a href=\"https://colab.research.google.com/github/animesharma3/Spam-Detector-BERT-Pytorch-Transformers-Hugging-Face-NLP-State-of-the-Art-Model./blob/main/Spam_Detector_%7C_BERT_%7C_Pytorch_%7C_Transformers_%7C_Hugging_Face_%7C_NLP_%7C_State_of_the_Art_Model.ipynb\" target=\"_parent\"><img src=\"https://colab.research.google.com/assets/colab-badge.svg\" alt=\"Open In Colab\"/></a>"
      ]
    },
    {
      "cell_type": "markdown",
      "metadata": {
        "id": "-INlSfgHgBzA"
      },
      "source": [
        "# Installing and Importing Dependencies"
      ]
    },
    {
      "cell_type": "code",
      "metadata": {
        "colab": {
          "base_uri": "https://localhost:8080/"
        },
        "id": "Qc5FU0v82Avh",
        "outputId": "700345d8-d50c-4d23-8a1c-c7fea2eaa049"
      },
      "source": [
        "!pip install transformers"
      ],
      "execution_count": 1,
      "outputs": [
        {
          "output_type": "stream",
          "text": [
            "Requirement already satisfied: transformers in /usr/local/lib/python3.6/dist-packages (4.2.2)\n",
            "Requirement already satisfied: requests in /usr/local/lib/python3.6/dist-packages (from transformers) (2.23.0)\n",
            "Requirement already satisfied: dataclasses; python_version < \"3.7\" in /usr/local/lib/python3.6/dist-packages (from transformers) (0.8)\n",
            "Requirement already satisfied: filelock in /usr/local/lib/python3.6/dist-packages (from transformers) (3.0.12)\n",
            "Requirement already satisfied: numpy in /usr/local/lib/python3.6/dist-packages (from transformers) (1.19.5)\n",
            "Requirement already satisfied: tokenizers==0.9.4 in /usr/local/lib/python3.6/dist-packages (from transformers) (0.9.4)\n",
            "Requirement already satisfied: sacremoses in /usr/local/lib/python3.6/dist-packages (from transformers) (0.0.43)\n",
            "Requirement already satisfied: importlib-metadata; python_version < \"3.8\" in /usr/local/lib/python3.6/dist-packages (from transformers) (3.4.0)\n",
            "Requirement already satisfied: regex!=2019.12.17 in /usr/local/lib/python3.6/dist-packages (from transformers) (2019.12.20)\n",
            "Requirement already satisfied: packaging in /usr/local/lib/python3.6/dist-packages (from transformers) (20.9)\n",
            "Requirement already satisfied: tqdm>=4.27 in /usr/local/lib/python3.6/dist-packages (from transformers) (4.41.1)\n",
            "Requirement already satisfied: certifi>=2017.4.17 in /usr/local/lib/python3.6/dist-packages (from requests->transformers) (2020.12.5)\n",
            "Requirement already satisfied: urllib3!=1.25.0,!=1.25.1,<1.26,>=1.21.1 in /usr/local/lib/python3.6/dist-packages (from requests->transformers) (1.24.3)\n",
            "Requirement already satisfied: idna<3,>=2.5 in /usr/local/lib/python3.6/dist-packages (from requests->transformers) (2.10)\n",
            "Requirement already satisfied: chardet<4,>=3.0.2 in /usr/local/lib/python3.6/dist-packages (from requests->transformers) (3.0.4)\n",
            "Requirement already satisfied: click in /usr/local/lib/python3.6/dist-packages (from sacremoses->transformers) (7.1.2)\n",
            "Requirement already satisfied: joblib in /usr/local/lib/python3.6/dist-packages (from sacremoses->transformers) (1.0.0)\n",
            "Requirement already satisfied: six in /usr/local/lib/python3.6/dist-packages (from sacremoses->transformers) (1.15.0)\n",
            "Requirement already satisfied: zipp>=0.5 in /usr/local/lib/python3.6/dist-packages (from importlib-metadata; python_version < \"3.8\"->transformers) (3.4.0)\n",
            "Requirement already satisfied: typing-extensions>=3.6.4; python_version < \"3.8\" in /usr/local/lib/python3.6/dist-packages (from importlib-metadata; python_version < \"3.8\"->transformers) (3.7.4.3)\n",
            "Requirement already satisfied: pyparsing>=2.0.2 in /usr/local/lib/python3.6/dist-packages (from packaging->transformers) (2.4.7)\n"
          ],
          "name": "stdout"
        }
      ]
    },
    {
      "cell_type": "code",
      "metadata": {
        "id": "uBT2n_h2wuRC"
      },
      "source": [
        "import pandas as pd\r\n",
        "import numpy as np\r\n",
        "import matplotlib.pyplot as plt\r\n",
        "import seaborn as sns\r\n",
        "from collections import defaultdict\r\n",
        "\r\n",
        "from sklearn.model_selection import train_test_split as tts\r\n",
        "from sklearn.metrics import accuracy_score, precision_score, recall_score, roc_auc_score, f1_score, confusion_matrix\r\n",
        "\r\n",
        "import torch\r\n",
        "import torch.nn as nn\r\n",
        "import torch.optim as optim\r\n",
        "from torch.utils.data import Dataset, DataLoader\r\n",
        "\r\n",
        "from transformers import BertTokenizer, BertModel, AdamW, get_linear_schedule_with_warmup\r\n",
        "\r\n",
        "import warnings\r\n",
        "warnings.filterwarnings('ignore')"
      ],
      "execution_count": 38,
      "outputs": []
    },
    {
      "cell_type": "markdown",
      "metadata": {
        "id": "RFGN_FrkgLj2"
      },
      "source": [
        "# Setting Variables"
      ]
    },
    {
      "cell_type": "code",
      "metadata": {
        "id": "y9nJO_X24fLB"
      },
      "source": [
        "PRE_TRAINED_MODEL_NAME = 'bert-base-cased'\r\n",
        "device = torch.device('cuda' if torch.cuda.is_available() else 'cpu')\r\n",
        "tokenizer = BertTokenizer.from_pretrained(PRE_TRAINED_MODEL_NAME)\r\n",
        "EPOCHS=10\r\n",
        "MAX_LEN=512\r\n",
        "BATCH_SIZE=16"
      ],
      "execution_count": 3,
      "outputs": []
    },
    {
      "cell_type": "markdown",
      "metadata": {
        "id": "ietiWNbYgR-i"
      },
      "source": [
        "# Reading and Preprocessing Data"
      ]
    },
    {
      "cell_type": "code",
      "metadata": {
        "colab": {
          "base_uri": "https://localhost:8080/",
          "height": 204
        },
        "id": "iQ6uw08ox3XY",
        "outputId": "81e691d5-a314-457e-e100-1f7b353aafe7"
      },
      "source": [
        "df = pd.read_csv('https://raw.githubusercontent.com/animesharma3/SPAM-SMS-Detection/master/spam_sms_collection.csv')[['msg', 'spam']]\r\n",
        "df.head()"
      ],
      "execution_count": 4,
      "outputs": [
        {
          "output_type": "execute_result",
          "data": {
            "text/html": [
              "<div>\n",
              "<style scoped>\n",
              "    .dataframe tbody tr th:only-of-type {\n",
              "        vertical-align: middle;\n",
              "    }\n",
              "\n",
              "    .dataframe tbody tr th {\n",
              "        vertical-align: top;\n",
              "    }\n",
              "\n",
              "    .dataframe thead th {\n",
              "        text-align: right;\n",
              "    }\n",
              "</style>\n",
              "<table border=\"1\" class=\"dataframe\">\n",
              "  <thead>\n",
              "    <tr style=\"text-align: right;\">\n",
              "      <th></th>\n",
              "      <th>msg</th>\n",
              "      <th>spam</th>\n",
              "    </tr>\n",
              "  </thead>\n",
              "  <tbody>\n",
              "    <tr>\n",
              "      <th>0</th>\n",
              "      <td>go jurong point crazy available bugis n great ...</td>\n",
              "      <td>0</td>\n",
              "    </tr>\n",
              "    <tr>\n",
              "      <th>1</th>\n",
              "      <td>ok lar joking wif u oni</td>\n",
              "      <td>0</td>\n",
              "    </tr>\n",
              "    <tr>\n",
              "      <th>2</th>\n",
              "      <td>free entry wkly comp win fa cup final tkts st ...</td>\n",
              "      <td>1</td>\n",
              "    </tr>\n",
              "    <tr>\n",
              "      <th>3</th>\n",
              "      <td>u dun say early hor u c already say</td>\n",
              "      <td>0</td>\n",
              "    </tr>\n",
              "    <tr>\n",
              "      <th>4</th>\n",
              "      <td>nah think go usf life around though</td>\n",
              "      <td>0</td>\n",
              "    </tr>\n",
              "  </tbody>\n",
              "</table>\n",
              "</div>"
            ],
            "text/plain": [
              "                                                 msg  spam\n",
              "0  go jurong point crazy available bugis n great ...     0\n",
              "1                            ok lar joking wif u oni     0\n",
              "2  free entry wkly comp win fa cup final tkts st ...     1\n",
              "3                u dun say early hor u c already say     0\n",
              "4                nah think go usf life around though     0"
            ]
          },
          "metadata": {
            "tags": []
          },
          "execution_count": 4
        }
      ]
    },
    {
      "cell_type": "code",
      "metadata": {
        "colab": {
          "base_uri": "https://localhost:8080/"
        },
        "id": "5Vz5fBKRx9c_",
        "outputId": "bb1e6bd7-3a61-4600-f649-2264544482ac"
      },
      "source": [
        "df.shape"
      ],
      "execution_count": 5,
      "outputs": [
        {
          "output_type": "execute_result",
          "data": {
            "text/plain": [
              "(5572, 2)"
            ]
          },
          "metadata": {
            "tags": []
          },
          "execution_count": 5
        }
      ]
    },
    {
      "cell_type": "code",
      "metadata": {
        "id": "78kRG9Qkzi3W"
      },
      "source": [
        "class SMSCollectionDataset(Dataset):\r\n",
        "    def __init__(self, spam, msgs, tokenizer, max_len):\r\n",
        "        self.msgs = msgs\r\n",
        "        self.spam = spam\r\n",
        "        self.tokenizer = tokenizer\r\n",
        "        self.max_len = max_len\r\n",
        "\r\n",
        "    def __len__(self):\r\n",
        "        return len(self.msgs)\r\n",
        "\r\n",
        "    def __getitem__(self, i):\r\n",
        "        msg = str(self.msgs[i])\r\n",
        "        spam = self.spam[i]\r\n",
        "\r\n",
        "        encoding = self.tokenizer.encode_plus(\r\n",
        "            msg, \r\n",
        "            add_special_tokens=True,\r\n",
        "            max_length=self.max_len,\r\n",
        "            truncation=True,\r\n",
        "            return_token_type_ids=False,\r\n",
        "            pad_to_max_length=True,\r\n",
        "            return_attention_mask=True,\r\n",
        "            return_tensors='pt'\r\n",
        "        )\r\n",
        "\r\n",
        "        return {\r\n",
        "            'msg': msg,\r\n",
        "            'input_ids': encoding['input_ids'].flatten(),\r\n",
        "            'attention_mask': encoding['attention_mask'].flatten(),\r\n",
        "            'spam': torch.tensor(spam, dtype=torch.long)\r\n",
        "        }"
      ],
      "execution_count": 6,
      "outputs": []
    },
    {
      "cell_type": "code",
      "metadata": {
        "id": "0RK3hJDCzS73"
      },
      "source": [
        "def create_data_loader(df, tokenizer, max_len, batch_size):\r\n",
        "    ds = SMSCollectionDataset(\r\n",
        "        spam=df['spam'].to_numpy(),\r\n",
        "        msgs=df['msg'].to_numpy(),\r\n",
        "        tokenizer=tokenizer,\r\n",
        "        max_len=max_len\r\n",
        "    )\r\n",
        "\r\n",
        "    return DataLoader(\r\n",
        "        ds,\r\n",
        "        batch_size=batch_size,\r\n",
        "        num_workers=4\r\n",
        "    )"
      ],
      "execution_count": 7,
      "outputs": []
    },
    {
      "cell_type": "code",
      "metadata": {
        "colab": {
          "base_uri": "https://localhost:8080/"
        },
        "id": "VsfQUZPQyPLl",
        "outputId": "20e25e51-2b42-49fb-e72e-52e010e21edb"
      },
      "source": [
        "df_train, df_test = tts(\r\n",
        "    df,\r\n",
        "    test_size=0.2,\r\n",
        "    random_state=42\r\n",
        ")\r\n",
        "df_val, df_test = tts(\r\n",
        "    df_test,\r\n",
        "    test_size=0.5,\r\n",
        "    random_state=42\r\n",
        ")\r\n",
        "df_train.shape, df_test.shape, df_val.shape"
      ],
      "execution_count": 8,
      "outputs": [
        {
          "output_type": "execute_result",
          "data": {
            "text/plain": [
              "((4457, 2), (558, 2), (557, 2))"
            ]
          },
          "metadata": {
            "tags": []
          },
          "execution_count": 8
        }
      ]
    },
    {
      "cell_type": "code",
      "metadata": {
        "id": "rSd4b1Mx6OR4"
      },
      "source": [
        "train_data_loader = create_data_loader(df_train, tokenizer, MAX_LEN, BATCH_SIZE)\r\n",
        "test_data_loader = create_data_loader(df_test, tokenizer, MAX_LEN, BATCH_SIZE)\r\n",
        "val_data_loader = create_data_loader(df_val, tokenizer, MAX_LEN, BATCH_SIZE)"
      ],
      "execution_count": 9,
      "outputs": []
    },
    {
      "cell_type": "code",
      "metadata": {
        "colab": {
          "base_uri": "https://localhost:8080/"
        },
        "id": "RXmAJbDr6fVe",
        "outputId": "78dde2e0-9c37-4864-c49c-3a02ff8a7084"
      },
      "source": [
        "d = next(iter(train_data_loader))\r\n",
        "d.keys()"
      ],
      "execution_count": 10,
      "outputs": [
        {
          "output_type": "execute_result",
          "data": {
            "text/plain": [
              "dict_keys(['msg', 'input_ids', 'attention_mask', 'spam'])"
            ]
          },
          "metadata": {
            "tags": []
          },
          "execution_count": 10
        }
      ]
    },
    {
      "cell_type": "code",
      "metadata": {
        "colab": {
          "base_uri": "https://localhost:8080/"
        },
        "id": "awSWUDUd6xoI",
        "outputId": "eccd27c9-c0af-4e40-b5ef-b932fd9c3782"
      },
      "source": [
        "d['input_ids'].shape, d['attention_mask'].shape, d['spam'].shape"
      ],
      "execution_count": 11,
      "outputs": [
        {
          "output_type": "execute_result",
          "data": {
            "text/plain": [
              "(torch.Size([16, 512]), torch.Size([16, 512]), torch.Size([16]))"
            ]
          },
          "metadata": {
            "tags": []
          },
          "execution_count": 11
        }
      ]
    },
    {
      "cell_type": "markdown",
      "metadata": {
        "id": "HDxtdPbJgY5n"
      },
      "source": [
        "# Model Building"
      ]
    },
    {
      "cell_type": "code",
      "metadata": {
        "id": "YXy7V_kJ8g7H"
      },
      "source": [
        "class SpamClassifier(nn.Module):\r\n",
        "    def __init__(self, n_classes):\r\n",
        "        super(SpamClassifier, self).__init__()\r\n",
        "        self.bert = BertModel.from_pretrained(PRE_TRAINED_MODEL_NAME)\r\n",
        "        self.drop = nn.Dropout(p=0.3)\r\n",
        "        self.out = nn.Linear(self.bert.config.hidden_size, n_classes)\r\n",
        "    def forward(self, input_ids, attention_mask):\r\n",
        "        pooled_output = self.bert(\r\n",
        "            input_ids=input_ids,\r\n",
        "            attention_mask=attention_mask\r\n",
        "        )[1]\r\n",
        "        output = self.drop(pooled_output)\r\n",
        "        return self.out(output)"
      ],
      "execution_count": 12,
      "outputs": []
    },
    {
      "cell_type": "code",
      "metadata": {
        "id": "_1uiooAZPru3"
      },
      "source": [
        "model = SpamClassifier(n_classes=2)\r\n",
        "model = model.to(device)"
      ],
      "execution_count": 13,
      "outputs": []
    },
    {
      "cell_type": "markdown",
      "metadata": {
        "id": "2IlXMoLageQl"
      },
      "source": [
        "# Loss, Optimizer and Scheduler"
      ]
    },
    {
      "cell_type": "code",
      "metadata": {
        "id": "06B3UYiEP2N8"
      },
      "source": [
        "optimizer = AdamW(model.parameters(), lr=2e-5, correct_bias=False)\r\n",
        "\r\n",
        "total_steps = len(train_data_loader) * EPOCHS\r\n",
        "scheduler = get_linear_schedule_with_warmup(\r\n",
        "  optimizer,\r\n",
        "  num_warmup_steps=0,\r\n",
        "  num_training_steps=total_steps\r\n",
        ")\r\n",
        "\r\n",
        "loss_fn = nn.CrossEntropyLoss().to(device)"
      ],
      "execution_count": 14,
      "outputs": []
    },
    {
      "cell_type": "code",
      "metadata": {
        "id": "Hb7uxa1LUlVO"
      },
      "source": [
        "# input_ids = d['input_ids'].to(device)\r\n",
        "# attention_mask = d['attention_mask'].to(device)\r\n",
        "# targets = d['spam'].to(device)\r\n",
        "\r\n",
        "# outputs = model(\r\n",
        "#     input_ids=input_ids,\r\n",
        "#     attention_mask=attention_mask\r\n",
        "# )\r\n",
        "# loss = loss_fn(outputs, targets)\r\n",
        "# loss"
      ],
      "execution_count": 15,
      "outputs": []
    },
    {
      "cell_type": "markdown",
      "metadata": {
        "id": "EHGjC_Wlgphj"
      },
      "source": [
        "# Train Model Function"
      ]
    },
    {
      "cell_type": "code",
      "metadata": {
        "id": "7sad0YiJRVjH"
      },
      "source": [
        "def train(\r\n",
        "    model,\r\n",
        "    loss_fn,\r\n",
        "    optimizer,\r\n",
        "    scheduler,\r\n",
        "    device,\r\n",
        "    data_loader,\r\n",
        "    n_examples\r\n",
        "):\r\n",
        "    model = model.train() # Setting Model in training mode\r\n",
        "\r\n",
        "    losses = []\r\n",
        "    correct_predictions = 0\r\n",
        "\r\n",
        "    for d in data_loader:\r\n",
        "        input_ids = d['input_ids'].to(device) # [16, 512]\r\n",
        "        attention_mask = d['attention_mask'].to(device) # [16, 512]\r\n",
        "        targets = d['spam'].to(device) # [16]\r\n",
        "\r\n",
        "        # Forward Propogation\r\n",
        "        outputs = model(\r\n",
        "            input_ids=input_ids,\r\n",
        "            attention_mask=attention_mask\r\n",
        "        ) # [16, 3]\r\n",
        "\r\n",
        "        # Calculating Loss\r\n",
        "        loss = loss_fn(outputs, targets)\r\n",
        "\r\n",
        "        _, preds = torch.max(outputs, dim=1)\r\n",
        "\r\n",
        "        correct_predictions += torch.sum(preds == targets)\r\n",
        "        losses.append(loss.item())\r\n",
        "        \r\n",
        "        # Backward Propogation\r\n",
        "        loss.backward()\r\n",
        "        nn.utils.clip_grad_norm_(model.parameters(), max_norm=1.0) # Clipping Gradient (Exploding Gradient Problem)\r\n",
        "        optimizer.step()\r\n",
        "        scheduler.step()\r\n",
        "        optimizer.zero_grad() # Resetting gradients\r\n",
        "\r\n",
        "    train_acc = correct_predictions.double() / n_examples\r\n",
        "    train_loss = np.mean(losses)\r\n",
        "    \r\n",
        "    return train_acc, train_loss"
      ],
      "execution_count": 16,
      "outputs": []
    },
    {
      "cell_type": "markdown",
      "metadata": {
        "id": "rXYnwR0KguQ-"
      },
      "source": [
        "# Validating Model Function"
      ]
    },
    {
      "cell_type": "code",
      "metadata": {
        "id": "G9PtqPEFenkA"
      },
      "source": [
        "def evaluate_model(\r\n",
        "    model,\r\n",
        "    loss_fn,\r\n",
        "    device,\r\n",
        "    data_loader,\r\n",
        "    n_examples   \r\n",
        "):\r\n",
        "    model = model.eval() # Setting Model in evaluation mode\r\n",
        "\r\n",
        "    losses = []\r\n",
        "    correct_predictions = 0\r\n",
        "\r\n",
        "    with torch.no_grad():\r\n",
        "        for d in data_loader:\r\n",
        "            input_ids = d['input_ids'].to(device) # [16, 512]\r\n",
        "            attention_mask = d['attention_mask'].to(device) # [16, 512]\r\n",
        "            targets = d['spam'].to(device) # [16]\r\n",
        "\r\n",
        "            # Forward Propogation\r\n",
        "            outputs = model(\r\n",
        "                input_ids=input_ids,\r\n",
        "                attention_mask=attention_mask\r\n",
        "            ) # [16, 3]\r\n",
        "\r\n",
        "            # Calculating Loss\r\n",
        "            loss = loss_fn(outputs, targets)\r\n",
        "\r\n",
        "            _, preds = torch.max(outputs, dim=1)\r\n",
        "\r\n",
        "            correct_predictions += torch.sum(preds == targets)\r\n",
        "            losses.append(loss.item())\r\n",
        "        \r\n",
        "    train_acc = correct_predictions.double() / n_examples\r\n",
        "    train_loss = np.mean(losses)\r\n",
        "\r\n",
        "    return train_acc, train_loss"
      ],
      "execution_count": 17,
      "outputs": []
    },
    {
      "cell_type": "markdown",
      "metadata": {
        "id": "tABNoeFUg1iW"
      },
      "source": [
        "# Training the Model"
      ]
    },
    {
      "cell_type": "code",
      "metadata": {
        "colab": {
          "base_uri": "https://localhost:8080/"
        },
        "id": "gN6kZep2aAsY",
        "outputId": "b3c27913-d0bf-4031-9b68-3d49d9682159"
      },
      "source": [
        "%%time\r\n",
        "\r\n",
        "history = defaultdict(list)\r\n",
        "best_accuracy = 0\r\n",
        "\r\n",
        "for epoch in range(EPOCHS):\r\n",
        "    print(f'Epoch {epoch + 1}/{EPOCHS}')\r\n",
        "    print('-' * 10)\r\n",
        "\r\n",
        "    train_acc, train_loss = train(\r\n",
        "        model,\r\n",
        "        loss_fn,\r\n",
        "        optimizer,\r\n",
        "        scheduler,\r\n",
        "        device,\r\n",
        "        train_data_loader,\r\n",
        "        len(df_train)\r\n",
        "    )\r\n",
        "\r\n",
        "    print(f'Train loss {train_loss} accuracy {train_acc}')\r\n",
        "\r\n",
        "    val_acc, val_loss = evaluate_model(\r\n",
        "        model,\r\n",
        "        loss_fn,\r\n",
        "        device,\r\n",
        "        val_data_loader,\r\n",
        "        len(df_val)\r\n",
        "    )\r\n",
        "\r\n",
        "    print(f'Validation loss {val_loss} accuracy {val_acc}')\r\n",
        "    print()\r\n",
        "\r\n",
        "    history['train_acc'].append(train_acc)\r\n",
        "    history['train_loss'].append(train_loss)\r\n",
        "    history['val_acc'].append(val_acc)\r\n",
        "    history['val_loss'].append(val_loss)\r\n",
        "\r\n",
        "    if val_acc > best_accuracy:\r\n",
        "        torch.save(model.state_dict(), 'best_model_state.bin')\r\n",
        "        best_accuracy = val_acc"
      ],
      "execution_count": 18,
      "outputs": [
        {
          "output_type": "stream",
          "text": [
            "Epoch 1/10\n",
            "----------\n",
            "Train loss 0.15114850201706592 accuracy 0.9517612743998205\n",
            "Validation loss 0.08365941916459373 accuracy 0.9784560143626572\n",
            "\n",
            "Epoch 2/10\n",
            "----------\n",
            "Train loss 0.04433012514291281 accuracy 0.9890060578864708\n",
            "Validation loss 0.11156323034416087 accuracy 0.9748653500897666\n",
            "\n",
            "Epoch 3/10\n",
            "----------\n",
            "Train loss 0.022230346372055215 accuracy 0.9952883105227732\n",
            "Validation loss 0.10769723367868989 accuracy 0.9730700179533214\n",
            "\n",
            "Epoch 4/10\n",
            "----------\n",
            "Train loss 0.011688102278855294 accuracy 0.9975319721785955\n",
            "Validation loss 0.1310800438415234 accuracy 0.9712746858168761\n",
            "\n",
            "Epoch 5/10\n",
            "----------\n",
            "Train loss 0.0032413931049015974 accuracy 0.9995512676688355\n",
            "Validation loss 0.1269350168837783 accuracy 0.9802513464991024\n",
            "\n",
            "Epoch 6/10\n",
            "----------\n",
            "Train loss 0.0026118831298183433 accuracy 0.9995512676688355\n",
            "Validation loss 0.1227429580889293 accuracy 0.9838420107719928\n",
            "\n",
            "Epoch 7/10\n",
            "----------\n",
            "Train loss 0.0021717795843934876 accuracy 0.9997756338344178\n",
            "Validation loss 0.12460764503443247 accuracy 0.9820466786355476\n",
            "\n",
            "Epoch 8/10\n",
            "----------\n",
            "Train loss 0.002464258378824531 accuracy 0.9997756338344178\n",
            "Validation loss 0.12418647532426154 accuracy 0.9820466786355476\n",
            "\n",
            "Epoch 9/10\n",
            "----------\n",
            "Train loss 0.0022330430330324536 accuracy 0.9997756338344178\n",
            "Validation loss 0.1294242401531457 accuracy 0.9838420107719928\n",
            "\n",
            "Epoch 10/10\n",
            "----------\n",
            "Train loss 0.0031864365854904126 accuracy 0.9995512676688355\n",
            "Validation loss 0.12666116552780815 accuracy 0.9838420107719928\n",
            "\n",
            "CPU times: user 25min 54s, sys: 15min 36s, total: 41min 31s\n",
            "Wall time: 41min 38s\n"
          ],
          "name": "stdout"
        }
      ]
    },
    {
      "cell_type": "markdown",
      "metadata": {
        "id": "o4Yoe_oX40bi"
      },
      "source": [
        "# Evaluating the Model Performance"
      ]
    },
    {
      "cell_type": "code",
      "metadata": {
        "colab": {
          "base_uri": "https://localhost:8080/"
        },
        "id": "xs-xwmWnv0Zz",
        "outputId": "525c8c3b-7a76-4665-da28-27f1d5c7a123"
      },
      "source": [
        "test_acc, _ = evaluate_model(\r\n",
        "    model,\r\n",
        "    loss_fn,\r\n",
        "    device,\r\n",
        "    test_data_loader,\r\n",
        "    len(df_test)\r\n",
        ")\r\n",
        "test_acc.item()"
      ],
      "execution_count": 19,
      "outputs": [
        {
          "output_type": "execute_result",
          "data": {
            "text/plain": [
              "0.996415770609319"
            ]
          },
          "metadata": {
            "tags": []
          },
          "execution_count": 19
        }
      ]
    },
    {
      "cell_type": "code",
      "metadata": {
        "colab": {
          "base_uri": "https://localhost:8080/",
          "height": 475
        },
        "id": "JStEr4A9xI0K",
        "outputId": "f7abd749-5ac4-442b-d2e5-4659dfc2e7aa"
      },
      "source": [
        "plt.figure(figsize=(10, 7))\r\n",
        "plt.plot(history['train_acc'], label='train accuracy')\r\n",
        "plt.plot(history['val_acc'], label='validation accuracy')\r\n",
        "\r\n",
        "plt.title('Training history')\r\n",
        "plt.ylabel('Accuracy')\r\n",
        "plt.xlabel('Epoch')\r\n",
        "plt.legend()\r\n",
        "plt.ylim([0, 1])"
      ],
      "execution_count": 23,
      "outputs": [
        {
          "output_type": "execute_result",
          "data": {
            "text/plain": [
              "(0.0, 1.0)"
            ]
          },
          "metadata": {
            "tags": []
          },
          "execution_count": 23
        },
        {
          "output_type": "display_data",
          "data": {
            "image/png": "[encoded data removed]",
            "text/plain": [
              "<Figure size 720x504 with 1 Axes>"
            ]
          },
          "metadata": {
            "tags": [],
            "needs_background": "light"
          }
        }
      ]
    },
    {
      "cell_type": "code",
      "metadata": {
        "id": "jxfjEVbVzhef"
      },
      "source": [
        "def get_predictions(\r\n",
        "    model, data_loader\r\n",
        "):\r\n",
        "    model = model.eval()\r\n",
        "\r\n",
        "    msgs = []\r\n",
        "    predictions = []\r\n",
        "    predictions_probs = []\r\n",
        "    real_values = []\r\n",
        "\r\n",
        "    with torch.no_grad():\r\n",
        "        for d in data_loader:\r\n",
        "            msg = d['msg']\r\n",
        "            input_ids = d['input_ids'].to(device)\r\n",
        "            attention_masks = d['attention_mask'].to(device)\r\n",
        "            spam = d['spam'].to(device)\r\n",
        "\r\n",
        "            outputs = model(\r\n",
        "                input_ids=input_ids,\r\n",
        "                attention_mask=attention_masks\r\n",
        "            )\r\n",
        "\r\n",
        "            _, preds = torch.max(outputs, dim=1)\r\n",
        "\r\n",
        "            probs = torch.nn.functional.softmax(outputs, dim=1)\r\n",
        "\r\n",
        "            msgs.extend(msg)\r\n",
        "            predictions.extend(preds)\r\n",
        "            predictions_probs.extend(probs)\r\n",
        "            real_values.extend(spam)\r\n",
        "    predictions = torch.stack(predictions).cpu()\r\n",
        "    predictions_probs = torch.stack(predictions_probs).cpu()\r\n",
        "    real_values = torch.stack(real_values).cpu()\r\n",
        "    return msgs, predictions, predictions_probs, real_values"
      ],
      "execution_count": 32,
      "outputs": []
    },
    {
      "cell_type": "code",
      "metadata": {
        "id": "qCxXj-3F258K"
      },
      "source": [
        "y_msgs, y_pred, y_pred_probs, y_test = get_predictions(\r\n",
        "  model,\r\n",
        "  test_data_loader\r\n",
        ")"
      ],
      "execution_count": 33,
      "outputs": []
    },
    {
      "cell_type": "markdown",
      "metadata": {
        "id": "5gegGnUJ5tzp"
      },
      "source": [
        "# Creating Final Classification Report"
      ]
    },
    {
      "cell_type": "code",
      "metadata": {
        "id": "Ck66KbYq3Ggq"
      },
      "source": [
        "def create_classification_report(Y_test, Y_pred):\r\n",
        "    print('--------Classification Report---------\\n')\r\n",
        "    accuracy = accuracy_score(Y_test, Y_pred)\r\n",
        "    f1 = f1_score(Y_test, Y_pred)\r\n",
        "    precision = precision_score(Y_test, Y_pred)\r\n",
        "    recall = recall_score(Y_test, Y_pred)\r\n",
        "    roc_auc = roc_auc_score(Y_test, Y_pred)\r\n",
        "    metrices = [accuracy, f1, precision, recall, roc_auc]\r\n",
        "    scores = pd.DataFrame(pd.Series(metrices).values, index=['accuracy', 'f1-score', 'precision', 'recall', 'roc auc score'], columns=['score'])\r\n",
        "    print(scores)\r\n",
        "    print('\\n--------Plotting Confusion Matrix---------')\r\n",
        "    sns.heatmap(confusion_matrix(Y_test, Y_pred), annot=True, cmap='RdYlGn_r', annot_kws={'size': 16})\r\n",
        "    return scores"
      ],
      "execution_count": 34,
      "outputs": []
    },
    {
      "cell_type": "code",
      "metadata": {
        "colab": {
          "base_uri": "https://localhost:8080/",
          "height": 623
        },
        "id": "fOUdUgGM37r4",
        "outputId": "8143d1a4-0691-4045-b9a7-3e1c2b615cc2"
      },
      "source": [
        "create_classification_report(y_test, y_pred)"
      ],
      "execution_count": 39,
      "outputs": [
        {
          "output_type": "stream",
          "text": [
            "--------Classification Report---------\n",
            "\n",
            "                  score\n",
            "accuracy       0.996416\n",
            "f1-score       0.987013\n",
            "precision      0.987013\n",
            "recall         0.987013\n",
            "roc auc score  0.992467\n",
            "\n",
            "--------Plotting Confusion Matrix---------\n"
          ],
          "name": "stdout"
        },
        {
          "output_type": "execute_result",
          "data": {
            "text/html": [
              "<div>\n",
              "<style scoped>\n",
              "    .dataframe tbody tr th:only-of-type {\n",
              "        vertical-align: middle;\n",
              "    }\n",
              "\n",
              "    .dataframe tbody tr th {\n",
              "        vertical-align: top;\n",
              "    }\n",
              "\n",
              "    .dataframe thead th {\n",
              "        text-align: right;\n",
              "    }\n",
              "</style>\n",
              "<table border=\"1\" class=\"dataframe\">\n",
              "  <thead>\n",
              "    <tr style=\"text-align: right;\">\n",
              "      <th></th>\n",
              "      <th>score</th>\n",
              "    </tr>\n",
              "  </thead>\n",
              "  <tbody>\n",
              "    <tr>\n",
              "      <th>accuracy</th>\n",
              "      <td>0.996416</td>\n",
              "    </tr>\n",
              "    <tr>\n",
              "      <th>f1-score</th>\n",
              "      <td>0.987013</td>\n",
              "    </tr>\n",
              "    <tr>\n",
              "      <th>precision</th>\n",
              "      <td>0.987013</td>\n",
              "    </tr>\n",
              "    <tr>\n",
              "      <th>recall</th>\n",
              "      <td>0.987013</td>\n",
              "    </tr>\n",
              "    <tr>\n",
              "      <th>roc auc score</th>\n",
              "      <td>0.992467</td>\n",
              "    </tr>\n",
              "  </tbody>\n",
              "</table>\n",
              "</div>"
            ],
            "text/plain": [
              "                  score\n",
              "accuracy       0.996416\n",
              "f1-score       0.987013\n",
              "precision      0.987013\n",
              "recall         0.987013\n",
              "roc auc score  0.992467"
            ]
          },
          "metadata": {
            "tags": []
          },
          "execution_count": 39
        },
        {
          "output_type": "display_data",
          "data": {
            "image/png": "[encoded data removed]",
            "text/plain": [
              "<Figure size 432x288 with 2 Axes>"
            ]
          },
          "metadata": {
            "tags": [],
            "needs_background": "light"
          }
        }
      ]
    },
    {
      "cell_type": "code",
      "metadata": {
        "id": "G_yenye14IKI"
      },
      "source": [
        ""
      ],
      "execution_count": null,
      "outputs": []
    }
  ]
}